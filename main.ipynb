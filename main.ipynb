{
 "cells": [
  {
   "cell_type": "markdown",
   "metadata": {},
   "source": [
    "# Age Estimation task"
   ]
  },
  {
   "cell_type": "markdown",
   "metadata": {},
   "source": [
    "## Imports"
   ]
  },
  {
   "cell_type": "code",
   "execution_count": 210,
   "metadata": {},
   "outputs": [],
   "source": [
    "import numpy as np\n",
    "import pandas as pd\n",
    "\n",
    "import scipy\n",
    "\n",
    "import matplotlib.pyplot as plt\n",
    "import matplotlib.cm as cm\n",
    "\n",
    "import seaborn as sns\n",
    "\n",
    "import librosa\n",
    "# %matplotlib widget"
   ]
  },
  {
   "cell_type": "markdown",
   "metadata": {},
   "source": [
    "## Constants"
   ]
  },
  {
   "cell_type": "code",
   "execution_count": 211,
   "metadata": {},
   "outputs": [],
   "source": [
    "FILE_DEVELOPMENT = \"Dataset/development.csv\"\n",
    "FILE_EVALUATION = \"Dataset/evaluation.csv\"\n",
    "AUDIOS_DEVELOPMENT = \"Dataset/audios_development/\"\n",
    "AUDIOS_EVALUATION = \"Dataset/audios_evaluation/\""
   ]
  },
  {
   "cell_type": "markdown",
   "metadata": {},
   "source": [
    "## File reading"
   ]
  },
  {
   "cell_type": "code",
   "execution_count": 212,
   "metadata": {},
   "outputs": [],
   "source": [
    "dev_original_df = pd.read_csv(FILE_DEVELOPMENT, header=0, index_col=0)\n",
    "eval_original_df = pd.read_csv(FILE_EVALUATION, header=0, index_col=0)"
   ]
  },
  {
   "cell_type": "markdown",
   "metadata": {},
   "source": [
    "## Data Exploration"
   ]
  },
  {
   "cell_type": "code",
   "execution_count": null,
   "metadata": {},
   "outputs": [],
   "source": [
    "# display(dev_original_df.head())\n",
    "\n",
    "display(f\"Total number of nan in development: {dev_original_df.isna().sum().sum()}\")\n",
    "display(f\"Total number of nan in evaluation: {eval_original_df.isna().sum().sum()}\")\n",
    "\n",
    "desc_dev_df = dev_original_df.describe()\n",
    "desc_eval_df = eval_original_df.describe()\n",
    "\n",
    "sampling_rate = dev_original_df['sampling_rate'].iloc[0]\n",
    "\n",
    "# display(desc_dev_df.loc['std', 'sampling_rate'])\n",
    "# display(desc_eval_df.loc['std', 'sampling_rate'])\n",
    "\n",
    "dev_df = dev_original_df.drop('sampling_rate', axis=1)\n",
    "eval_df = eval_original_df.drop('sampling_rate', axis=1)\n",
    "\n",
    "ages_df = dev_df[['age']]\n",
    "path_dev_df = dev_df[['path']]\n",
    "path_eval_df = eval_df[['path']]\n",
    "\n",
    "dev_df = dev_df.drop(['path'], axis=1)\n",
    "eval_df = eval_df.drop('path', axis=1)\n",
    "\n",
    "display(dev_df.head())\n",
    "display(eval_df.head())\n",
    "\n",
    "# display(path_dev_df)\n",
    "# display(path_eval_df)\n",
    "display(dev_df.describe())"
   ]
  },
  {
   "cell_type": "code",
   "execution_count": null,
   "metadata": {},
   "outputs": [],
   "source": [
    "enticity_df = dev_df['ethnicity'].value_counts()\n",
    "\n",
    "avg_et = enticity_df.mean()\n",
    "display(enticity_df[enticity_df == 1].shape)\n",
    "# enticity_df[enticity_df > avg_et].plot()\n",
    "\n",
    "etnie_chosen = list(set(enticity_df[enticity_df > avg_et].index))\n",
    "display(etnie_chosen)\n"
   ]
  },
  {
   "cell_type": "code",
   "execution_count": null,
   "metadata": {},
   "outputs": [],
   "source": [
    "dev_df.head(5)"
   ]
  },
  {
   "cell_type": "markdown",
   "metadata": {},
   "source": [
    "## Correlation"
   ]
  },
  {
   "cell_type": "code",
   "execution_count": null,
   "metadata": {},
   "outputs": [],
   "source": [
    "sns.heatmap(np.abs(dev_df.corr(numeric_only=True)))\n",
    "try:\n",
    "    dev_df = dev_df.drop(columns = 'age')\n",
    "except:\n",
    "    print()"
   ]
  },
  {
   "cell_type": "markdown",
   "metadata": {},
   "source": [
    "## Encoding"
   ]
  },
  {
   "cell_type": "markdown",
   "metadata": {},
   "source": [
    "### Ethnicity"
   ]
  },
  {
   "cell_type": "code",
   "execution_count": 217,
   "metadata": {},
   "outputs": [],
   "source": [
    "# display(dev_df)\n",
    "def encode_ethnicity(X_df, ethnie):\n",
    "    etna = pd.DataFrame(1, columns=ethnie, index=X_df.index)\n",
    "\n",
    "    aggregated_ethnicity_df = X_df.copy()\n",
    "    aggregated_ethnicity_df.loc[~(aggregated_ethnicity_df['ethnicity'].isin(ethnie)), 'ethnicity'] = 'others'\n",
    "\n",
    "    for etnia in ethnie:\n",
    "        aggregated_ethnicity_df.loc[aggregated_ethnicity_df['ethnicity'] == etnia, etnia] = etna[etnia]\n",
    "\n",
    "        aggregated_ethnicity_df.loc[aggregated_ethnicity_df['ethnicity'] == etnia, etnia] = 1\n",
    "        aggregated_ethnicity_df.loc[~(aggregated_ethnicity_df['ethnicity'] == etnia), etnia] = 0\n",
    "\n",
    "    # encoded_ethnicity = pd.get_dummies(aggregated_ethnicity_df['ethnicity'], dtype=int)\n",
    "\n",
    "    try:\n",
    "        aggregated_ethnicity_df = aggregated_ethnicity_df.drop(columns=['ethnicity'], axis=1)\n",
    "    except KeyError:\n",
    "        pass\n",
    "\n",
    "    return aggregated_ethnicity_df\n"
   ]
  },
  {
   "cell_type": "markdown",
   "metadata": {},
   "source": [
    "# TODO: no information from ethnicity in negligible"
   ]
  },
  {
   "cell_type": "markdown",
   "metadata": {},
   "source": [
    "### Gender"
   ]
  },
  {
   "cell_type": "code",
   "execution_count": 218,
   "metadata": {},
   "outputs": [],
   "source": [
    "GenderMapper = {\n",
    "    'male': 1,\n",
    "    'female': -1\n",
    "}\n",
    "\n",
    "def encode_gender(X_df:pd.DataFrame, mapper):\n",
    "    encoded_df = X_df.copy()\n",
    "    for gender, value in mapper.items():\n",
    "        encoded_df.loc[encoded_df['gender'] == gender, 'gender'] = value\n",
    "\n",
    "    encoded_df.loc[encoded_df['gender'] == 'famale', 'gender'] = -1\n",
    "\n",
    "    encoded_df['gender'] = encoded_df['gender'].astype(float)\n",
    "    return encoded_df"
   ]
  },
  {
   "cell_type": "markdown",
   "metadata": {},
   "source": [
    "### Tempo"
   ]
  },
  {
   "cell_type": "code",
   "execution_count": 219,
   "metadata": {},
   "outputs": [],
   "source": [
    "# display(encoded_gender_etnicity_df['tempo'])\n",
    "\n",
    "def encode_tempo(X_df):\n",
    "    encoded_df = X_df.copy()\n",
    "    encoded_df['tempo'] = encoded_df['tempo'].map(lambda x: float(x.strip('[').strip(']')))\n",
    "    return encoded_df\n"
   ]
  },
  {
   "cell_type": "code",
   "execution_count": null,
   "metadata": {},
   "outputs": [],
   "source": [
    "# display(eval_df.loc[eval_df['ethnicity'].isin(etnie_chosen), 'ethnicity'].value_counts())\n",
    "\n",
    "step1_dev_df = encode_ethnicity(dev_df, etnie_chosen)\n",
    "step1_eval_df = encode_ethnicity(eval_df, etnie_chosen)\n",
    "\n",
    "display(dev_df.head(5))\n",
    "# display(eval_df.head(5))\n",
    "\n",
    "# step1_eval_df = encode_ethnicity(eval_df, etnie_chosen)\n",
    "\n",
    "# display(step1_dev_df.head())\n",
    "# display(step1_eval_df.head())\n",
    "\n",
    "# step1_eval_df['gender'].value_counts()\n",
    "\n",
    "step2_dev_df = encode_gender(step1_dev_df, GenderMapper)\n",
    "step2_eval_df = encode_gender(step1_eval_df, GenderMapper)\n",
    "\n",
    "display(step2_dev_df.head(5))\n",
    "# display(step2_eval_df.head(5))\n",
    "\n",
    "step3_dev_df = encode_tempo(step2_dev_df)\n",
    "step3_eval_df = encode_tempo(step2_eval_df)\n",
    "\n",
    "display(step3_dev_df.head(5))\n",
    "# display(step3_eval_df.head(5))\n",
    "\n",
    "# step3_dev_df = step3_dev_df.drop(columns=['ethnicity'], axis=1)\n",
    "# step3_eval_df = step3_eval_df.drop(columns=['ethnicity'], axis=1)\n",
    "\n",
    "display(step3_dev_df.head(5))\n",
    "# display(step3_eval_df.head(5))"
   ]
  },
  {
   "cell_type": "code",
   "execution_count": 221,
   "metadata": {},
   "outputs": [],
   "source": [
    "# col = 'min_pitch'\n",
    "# temp = step3_dev_df[['gender', col]]\n",
    "\n",
    "# # display(temp[temp['gender'] == mapper['male']][col])\n",
    "\n",
    "# plt.scatter(\n",
    "#     x=temp[temp['gender'] == mapper['male']].index, \n",
    "#     y=temp[temp['gender'] == mapper['male']][col], \n",
    "#     marker=\".\",\n",
    "#     color=cm.tab10(0), \n",
    "#     label='male'\n",
    "# )\n",
    "# plt.scatter(\n",
    "#     x=temp[temp['gender'] == mapper['female']].index, \n",
    "#     y=temp[temp['gender'] == mapper['female']][col], \n",
    "#     marker=\".\",\n",
    "#     color=cm.tab10(1), \n",
    "#     label='female'\n",
    "# )\n",
    "# plt.tight_layout()\n",
    "# plt.legend()\n",
    "# plt.show()"
   ]
  },
  {
   "cell_type": "code",
   "execution_count": 222,
   "metadata": {},
   "outputs": [],
   "source": [
    "# TODO: fix min_pitch analysis\n",
    "# precisionLog = {\n",
    "#     'mean_pitch':2, \n",
    "#     'max_pitch':3, \n",
    "#     'min_pitch':3, \n",
    "#     'jitter':2, \n",
    "#     'shimmer':2, \n",
    "#     'energy':1, \n",
    "#     'zcr_mean':2, \n",
    "#     'spectral_centroid_mean':2,\n",
    "#     'tempo':3,\n",
    "#     'hnr':0\n",
    "# }\n",
    "\n",
    "# def plot_distribution(X_df:pd.DataFrame, col):\n",
    "#     temp = X_df[['gender', col]].copy()\n",
    "#     if col != 'hnr':\n",
    "#         temp[col] = np.round(np.log10(temp[col]), precisionLog[col])\n",
    "#     else:\n",
    "#         temp[col] = np.round(temp[col], precisionLog[col])\n",
    "#     temp['frequency'] = temp[col].map(temp[col].value_counts())\n",
    "#     display(temp)\n",
    "#     colors = [cm.tab10(int(x == mapper['female'])) for x in temp['gender']]\n",
    "\n",
    "#     plt.figure()\n",
    "#     plt.scatter(temp[col], temp['frequency'], color=colors, alpha=0.7)\n",
    "#     plt.xlabel('Mean Pitch (rounded to nearest 10)')\n",
    "#     plt.ylabel('Frequency')\n",
    "#     plt.title('Scatter Plot of Frequency by Mean Pitch and Gender')\n",
    "#     plt.show()\n",
    "\n",
    "# i=2\n",
    "# col = list(precisionLog.keys())[i]\n",
    "# display(col)\n",
    "# plot_distribution(step3_dev_df, col)"
   ]
  },
  {
   "cell_type": "code",
   "execution_count": null,
   "metadata": {},
   "outputs": [],
   "source": [
    "display(step3_dev_df)\n",
    "display(step3_dev_df.describe())\n",
    "step3_dev_df.columns"
   ]
  },
  {
   "cell_type": "code",
   "execution_count": null,
   "metadata": {},
   "outputs": [],
   "source": [
    "precisionLog = {\n",
    "    'mean_pitch':2, \n",
    "    'max_pitch':2, \n",
    "    'min_pitch':3, \n",
    "    'jitter':2, \n",
    "    'shimmer':2, \n",
    "    'energy':1, \n",
    "    'zcr_mean':2, \n",
    "    'spectral_centroid_mean':2,\n",
    "    'tempo':3,\n",
    "    'hnr':0\n",
    "}\n",
    "\n",
    "precisionLinear = {\n",
    "    'mean_pitch':-1, \n",
    "    'max_pitch':-2, \n",
    "    'min_pitch':0, \n",
    "    'jitter':3, \n",
    "    'shimmer':3, \n",
    "    'energy':3, \n",
    "    'zcr_mean':2, \n",
    "    'spectral_centroid_mean':-2,\n",
    "    'tempo':3,\n",
    "    'hnr':0\n",
    "}\n",
    "\n",
    "def round_column(data: pd.DataFrame, col: str, isLog:bool = True):\n",
    "    if col != 'hnr':\n",
    "        if isLog:\n",
    "            rounded_col = np.round(\n",
    "                np.log10(data[col]), \n",
    "                precisionLog[col]\n",
    "            )\n",
    "        else:\n",
    "            rounded_col = np.round(\n",
    "                data[col],\n",
    "                precisionLinear[col]\n",
    "            )\n",
    "    else:\n",
    "        if isLog:\n",
    "            rounded_col = np.round(data[col], precisionLog[col])\n",
    "        else:\n",
    "            rounded_col = np.round(data[col], precisionLinear[col])\n",
    "    return rounded_col\n",
    "\n",
    "\n",
    "def plot_distribution(ax:plt.Axes, X_df: pd.DataFrame, col: str, isLog:bool=True):    \n",
    "    temp = X_df[['gender', col]].copy()\n",
    "\n",
    "    male_temp = temp[temp['gender'] == GenderMapper['male']].copy()\n",
    "    female_temp = temp[temp['gender'] == GenderMapper['female']].copy()\n",
    "\n",
    "    male_temp[col] = round_column(  male_temp,   col, isLog=isLog)\n",
    "    female_temp[col] = round_column(female_temp, col, isLog=isLog)\n",
    "\n",
    "    male_temp['frequency'] = male_temp[col].map(male_temp[col].value_counts())\n",
    "    female_temp['frequency'] = female_temp[col].map(female_temp[col].value_counts())\n",
    "\n",
    "    male_temp = male_temp.drop_duplicates()\n",
    "    female_temp = female_temp.drop_duplicates()\n",
    "\n",
    "    ax.scatter(male_temp[col], \n",
    "                male_temp['frequency'], \n",
    "                color='blue', alpha=0.7, label='Male')\n",
    "    \n",
    "    ax.scatter(female_temp[col], \n",
    "                female_temp['frequency'], \n",
    "                color='red', alpha=0.7, label='Female')\n",
    "    # ax.label(f'log_10({col.capitalize()})')\n",
    "    # ax.ylabel('Frequency')\n",
    "    ax.legend()\n",
    "\n",
    "# Example usage\n",
    "for i in range(10):\n",
    "    col = list(precisionLog.keys())[i]\n",
    "    fig = plt.figure(figsize=(15, 5))\n",
    "    fig.suptitle(f'Distribution of {col.capitalize()}')\n",
    "\n",
    "    ax1 = fig.add_subplot(121)\n",
    "    \n",
    "    ax1.set_title('In log10 scale')\n",
    "    plot_distribution(ax1, step3_dev_df, col, isLog=True)\n",
    "    ax1.set_xlabel(f'log_10({col.capitalize()})')\n",
    "    ax1.set_ylabel(\"Frequency\")\n",
    "    \n",
    "    ax2 = fig.add_subplot(122)\n",
    "    plot_distribution(ax2, step3_dev_df, col, isLog=False)\n",
    "    ax2.set_title('Linear scale')\n",
    "    ax2.set_xlabel(f'{col.capitalize()}')\n",
    "    ax2.set_ylabel(\"Frequency\")\n",
    "\n",
    "    plt.show()"
   ]
  },
  {
   "cell_type": "code",
   "execution_count": 276,
   "metadata": {},
   "outputs": [],
   "source": [
    "# ynnyyyyyss\n",
    "step3_log_dev_df = step3_dev_df.copy()\n",
    "step3_log_eval_df = step3_eval_df.copy()\n",
    "for i, toSub in zip(precisionLog.keys(), [1, 0, 0, 1, 1, 1, 1, 1, 0, 0]):\n",
    "    if toSub == 1:\n",
    "        step3_log_dev_df.loc[:, i] = np.log10(step3_dev_df.loc[:, i])\n",
    "        step3_log_eval_df.loc[:, i] = np.log10(step3_eval_df.loc[:, i])"
   ]
  },
  {
   "cell_type": "markdown",
   "metadata": {},
   "source": [
    "## First regressor"
   ]
  },
  {
   "cell_type": "code",
   "execution_count": null,
   "metadata": {},
   "outputs": [],
   "source": [
    "from sklearn.ensemble import RandomForestRegressor\n",
    "from sklearn.metrics import root_mean_squared_error\n",
    "from sklearn.model_selection import train_test_split\n",
    "\n",
    "forest = RandomForestRegressor()\n",
    "\n",
    "# display(working_df)\n",
    "# display(ages_df)\n",
    "\n",
    "X_train, X_val, y_train, y_val = train_test_split(step3_log_dev_df, ages_df, test_size=0.3, shuffle=True, random_state=341967)\n",
    "\n",
    "forest = forest.fit(X_train.values, y_train.values.reshape((-1,)))\n",
    "y_pred = forest.predict(X_val.values)\n",
    "\n",
    "display(root_mean_squared_error(y_val.values, y_pred))\n",
    "\n",
    "#10.402057038409454"
   ]
  },
  {
   "cell_type": "code",
   "execution_count": null,
   "metadata": {},
   "outputs": [],
   "source": [
    "ages_df"
   ]
  },
  {
   "cell_type": "code",
   "execution_count": null,
   "metadata": {},
   "outputs": [],
   "source": [
    "import pandas as pd\n",
    "import matplotlib.pyplot as plt\n",
    "\n",
    "errors = pd.DataFrame(np.round(y_pred.flatten() - y_val.values.flatten(), 0), columns=['error'])\n",
    "error_counts = errors['error'].value_counts().reset_index()\n",
    "error_counts.columns = ['error', 'count']\n",
    "\n",
    "plt.figure()\n",
    "plt.scatter(error_counts['error'], error_counts['count'])\n",
    "plt.xlabel('Error')\n",
    "plt.ylabel('Count')\n",
    "plt.title('Distribution of Prediction Errors')\n",
    "plt.show()\n"
   ]
  },
  {
   "cell_type": "code",
   "execution_count": null,
   "metadata": {},
   "outputs": [],
   "source": [
    "y_eval_pred = forest.predict(step3_log_eval_df.values)\n",
    "\n",
    "from collections import Counter\n",
    "\n",
    "display(np.max(y_eval_pred), np.min(y_eval_pred))\n",
    "display(np.max(ages_df), np.min(ages_df))"
   ]
  },
  {
   "cell_type": "code",
   "execution_count": 281,
   "metadata": {},
   "outputs": [],
   "source": [
    "with open(\"results.csv\", \"w\") as fout:\n",
    "    fout.write(\"Id,Predicted\\n\")\n",
    "\n",
    "    for id, y in enumerate(y_eval_pred):\n",
    "        fout.write(f\"{id}, {y}\\n\")"
   ]
  },
  {
   "cell_type": "code",
   "execution_count": null,
   "metadata": {},
   "outputs": [],
   "source": [
    "from sklearn.model_selection import cross_val_score\n",
    "\n",
    "abs(cross_val_score(RandomForestRegressor(n_jobs=-1), step3_dev_df, ages_df, cv=10, scoring='neg_root_mean_squared_error', n_jobs=-1).mean())"
   ]
  },
  {
   "cell_type": "code",
   "execution_count": null,
   "metadata": {},
   "outputs": [],
   "source": []
  }
 ],
 "metadata": {
  "kernelspec": {
   "display_name": "Python 3",
   "language": "python",
   "name": "python3"
  },
  "language_info": {
   "codemirror_mode": {
    "name": "ipython",
    "version": 3
   },
   "file_extension": ".py",
   "mimetype": "text/x-python",
   "name": "python",
   "nbconvert_exporter": "python",
   "pygments_lexer": "ipython3",
   "version": "3.11.9"
  }
 },
 "nbformat": 4,
 "nbformat_minor": 2
}
