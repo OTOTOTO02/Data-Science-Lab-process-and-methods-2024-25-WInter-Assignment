{
 "cells": [
  {
   "cell_type": "markdown",
   "metadata": {},
   "source": [
    "# Age Estimation task"
   ]
  },
  {
   "cell_type": "markdown",
   "metadata": {},
   "source": [
    "## Imports"
   ]
  },
  {
   "cell_type": "code",
   "execution_count": 277,
   "metadata": {},
   "outputs": [],
   "source": [
    "import numpy as np\n",
    "import pandas as pd\n",
    "\n",
    "import seaborn as sns\n",
    "import scipy\n",
    "import matplotlib.pyplot as plt\n",
    "import matplotlib.cm as cm\n",
    "\n",
    "import librosa\n",
    "# %matplotlib widget"
   ]
  },
  {
   "cell_type": "markdown",
   "metadata": {},
   "source": [
    "## Constants"
   ]
  },
  {
   "cell_type": "code",
   "execution_count": 278,
   "metadata": {},
   "outputs": [],
   "source": [
    "FILE_DEVELOPMENT = \"Dataset/development.csv\"\n",
    "FILE_EVALUATION = \"Dataset/evaluation.csv\"\n",
    "AUDIOS_DEVELOPMENT = \"Dataset/audios_development/\"\n",
    "AUDIOS_EVALUATION = \"Dataset/audios_evaluation/\""
   ]
  },
  {
   "cell_type": "markdown",
   "metadata": {},
   "source": [
    "## File reading"
   ]
  },
  {
   "cell_type": "code",
   "execution_count": 279,
   "metadata": {},
   "outputs": [],
   "source": [
    "dev_original_df = pd.read_csv(FILE_DEVELOPMENT, header=0, index_col=0)\n",
    "eval_original_df = pd.read_csv(FILE_EVALUATION, header=0, index_col=0)"
   ]
  },
  {
   "cell_type": "markdown",
   "metadata": {},
   "source": [
    "## Data Exploration"
   ]
  },
  {
   "cell_type": "code",
   "execution_count": null,
   "metadata": {},
   "outputs": [],
   "source": [
    "# display(dev_original_df.head())\n",
    "\n",
    "display(f\"Total number of nan in development: {dev_original_df.isna().sum().sum()}\")\n",
    "display(f\"Total number of nan in evaluation: {eval_original_df.isna().sum().sum()}\")\n",
    "\n",
    "desc_dev_df = dev_original_df.describe()\n",
    "desc_eval_df = eval_original_df.describe()\n",
    "\n",
    "sampling_rate = dev_original_df['sampling_rate'].iloc[0]\n",
    "\n",
    "# display(desc_dev_df.loc['std', 'sampling_rate'])\n",
    "# display(desc_eval_df.loc['std', 'sampling_rate'])\n",
    "\n",
    "dev_df = dev_original_df.drop('sampling_rate', axis=1)\n",
    "eval_df = eval_original_df.drop('sampling_rate', axis=1)\n",
    "\n",
    "ages_df = dev_df[['age']]\n",
    "path_dev_df = dev_df[['path']]\n",
    "path_eval_df = eval_df[['path']]\n",
    "\n",
    "dev_df = dev_df.drop(['path'], axis=1)\n",
    "eval_df = eval_df.drop('path', axis=1)\n",
    "\n",
    "display(dev_df.head())\n",
    "display(eval_df.head())\n",
    "\n",
    "# display(path_dev_df)\n",
    "# display(path_eval_df)\n",
    "display(dev_df.describe())"
   ]
  },
  {
   "cell_type": "code",
   "execution_count": null,
   "metadata": {},
   "outputs": [],
   "source": [
    "enticity_df = dev_df['ethnicity'].value_counts()\n",
    "\n",
    "avg_et = enticity_df.mean()\n",
    "display(enticity_df[enticity_df == 1].shape)\n",
    "# enticity_df[enticity_df > avg_et].plot()\n",
    "\n",
    "etnie_chosen = list(set(enticity_df[enticity_df > avg_et].index))\n",
    "display(etnie_chosen)\n"
   ]
  },
  {
   "cell_type": "code",
   "execution_count": null,
   "metadata": {},
   "outputs": [],
   "source": [
    "dev_df.head(5)"
   ]
  },
  {
   "cell_type": "code",
   "execution_count": null,
   "metadata": {},
   "outputs": [],
   "source": [
    "\n"
   ]
  },
  {
   "cell_type": "markdown",
   "metadata": {},
   "source": [
    "## Correlation"
   ]
  },
  {
   "cell_type": "code",
   "execution_count": null,
   "metadata": {},
   "outputs": [],
   "source": [
    "sns.heatmap(np.abs(dev_df.corr(numeric_only=True)))\n",
    "dev_df = dev_df.drop(columns = 'age')"
   ]
  },
  {
   "cell_type": "markdown",
   "metadata": {},
   "source": [
    "## Encoding"
   ]
  },
  {
   "cell_type": "markdown",
   "metadata": {},
   "source": [
    "### Ethnicity"
   ]
  },
  {
   "cell_type": "code",
   "execution_count": 284,
   "metadata": {},
   "outputs": [],
   "source": [
    "# display(dev_df)\n",
    "def encode_ethnicity(X_df, ethnie):\n",
    "    etna = pd.DataFrame(1, columns=ethnie, index=X_df.index)\n",
    "\n",
    "    aggregated_ethnicity_df = X_df.copy()\n",
    "    aggregated_ethnicity_df.loc[~(aggregated_ethnicity_df['ethnicity'].isin(ethnie)), 'ethnicity'] = 'others'\n",
    "\n",
    "\n",
    "    # display(aggregated_ethnicity_df['ethnicity'])\n",
    "\n",
    "    for etnia in ethnie:\n",
    "        aggregated_ethnicity_df.loc[aggregated_ethnicity_df['ethnicity'] == etnia, etnia] = etna[etnia]\n",
    "\n",
    "        aggregated_ethnicity_df.loc[aggregated_ethnicity_df['ethnicity'] == etnia, etnia] = 1\n",
    "        aggregated_ethnicity_df.loc[~(aggregated_ethnicity_df['ethnicity'] == etnia), etnia] = 0\n",
    "\n",
    "    # encoded_ethnicity = pd.get_dummies(aggregated_ethnicity_df['ethnicity'], dtype=int)\n",
    "\n",
    "    # display(encoded_ethnicity)\n",
    "\n",
    "    try:\n",
    "        aggregated_ethnicity_df = aggregated_ethnicity_df.drop(columns=['ethnicity'], axis=1)\n",
    "    except KeyError:\n",
    "        pass\n",
    "    # encoded_ethnicity_df = pd.concat([aggregated_ethnicity_df, encoded_ethnicity], axis=1)\n",
    "    \n",
    "    return aggregated_ethnicity_df\n"
   ]
  },
  {
   "cell_type": "markdown",
   "metadata": {},
   "source": [
    "# TODO: no information from ethnicity in negligible"
   ]
  },
  {
   "cell_type": "markdown",
   "metadata": {},
   "source": [
    "### Gender"
   ]
  },
  {
   "cell_type": "code",
   "execution_count": null,
   "metadata": {},
   "outputs": [],
   "source": []
  },
  {
   "cell_type": "code",
   "execution_count": 297,
   "metadata": {},
   "outputs": [],
   "source": [
    "mapper = {\n",
    "    'male': 1,\n",
    "    'female': -1\n",
    "}\n",
    "\n",
    "# display(step1_dev_df)\n",
    "\n",
    "def encode_gender(X_df:pd.DataFrame, mapper):\n",
    "    \n",
    "    encoded_df = X_df.copy()\n",
    "    for gender, value in mapper.items():\n",
    "        encoded_df.loc[encoded_df['gender'] == gender, 'gender'] = value\n",
    "\n",
    "    encoded_df.loc[encoded_df['gender'] == 'famale', 'gender'] = -1\n",
    "\n",
    "    encoded_df['gender'] = encoded_df['gender'].astype(float)\n",
    "    return encoded_df\n"
   ]
  },
  {
   "cell_type": "markdown",
   "metadata": {},
   "source": [
    "### Tempo"
   ]
  },
  {
   "cell_type": "code",
   "execution_count": 298,
   "metadata": {},
   "outputs": [],
   "source": [
    "# display(encoded_gender_etnicity_df['tempo'])\n",
    "\n",
    "def encode_tempo(X_df):\n",
    "    encoded_df = X_df.copy()\n",
    "    encoded_df['tempo'] = encoded_df['tempo'].map(lambda x: float(x.strip('[').strip(']')))\n",
    "    return encoded_df\n"
   ]
  },
  {
   "cell_type": "code",
   "execution_count": null,
   "metadata": {},
   "outputs": [],
   "source": [
    "# display(eval_df.loc[eval_df['ethnicity'].isin(etnie_chosen), 'ethnicity'].value_counts())\n",
    "\n",
    "step1_dev_df = encode_ethnicity(dev_df, etnie_chosen)\n",
    "step1_eval_df = encode_ethnicity(eval_df, etnie_chosen)\n",
    "\n",
    "# display(etna)\n",
    "display(dev_df.head(5))\n",
    "display(eval_df.head(5))\n",
    "# step1_eval_df = encode_ethnicity(eval_df, etnie_chosen)\n",
    "\n",
    "# display(step1_dev_df.head())\n",
    "# display(step1_eval_df.head())\n",
    "\n",
    "# step1_eval_df['gender'].value_counts()\n",
    "\n",
    "step2_dev_df = encode_gender(step1_dev_df, mapper)\n",
    "step2_eval_df = encode_gender(step1_eval_df, mapper)\n",
    "\n",
    "display(step2_dev_df.head(5))\n",
    "display(step2_eval_df.head(5))\n",
    "\n",
    "step3_dev_df = encode_tempo(step2_dev_df)\n",
    "step3_eval_df = encode_tempo(step2_eval_df)\n",
    "\n",
    "display(step3_dev_df.head(5))\n",
    "display(step3_eval_df.head(5))\n",
    "\n",
    "# step3_dev_df = step3_dev_df.drop(columns=['ethnicity'], axis=1)\n",
    "# step3_eval_df = step3_eval_df.drop(columns=['ethnicity'], axis=1)\n",
    "\n",
    "display(step3_dev_df.head(5))\n",
    "display(step3_eval_df.head(5))"
   ]
  },
  {
   "cell_type": "code",
   "execution_count": null,
   "metadata": {},
   "outputs": [],
   "source": [
    "step3_dev_df.columns"
   ]
  },
  {
   "cell_type": "code",
   "execution_count": null,
   "metadata": {},
   "outputs": [],
   "source": [
    "col = 'gender'\n",
    "temp = step3_dev_df[['gender', col]]\n",
    "\n",
    "display(temp[temp['gender'] == mapper['male']][col])\n",
    "\n",
    "plt.scatter(\n",
    "    x=temp[temp['gender'] == mapper['male']].index, \n",
    "    y=temp[temp['gender'] == mapper['male']][col], \n",
    "    marker=\".\",\n",
    "    color=cm.tab10(0), \n",
    "    label='male'\n",
    ")\n",
    "plt.scatter(\n",
    "    x=temp[temp['gender'] == mapper['female']].index, \n",
    "    y=temp[temp['gender'] == mapper['female']][col], \n",
    "    marker=\".\",\n",
    "    color=cm.tab10(1), \n",
    "    label='female'\n",
    ")\n",
    "plt.tight_layout()\n",
    "plt.legend()\n",
    "plt.show()"
   ]
  },
  {
   "cell_type": "code",
   "execution_count": null,
   "metadata": {},
   "outputs": [],
   "source": [
    "# TODO: fix min_pitch analysis\n",
    "precision = {\n",
    "    'mean_pitch':2, \n",
    "    'max_pitch':3, \n",
    "    'min_pitch':3, \n",
    "    'jitter':2, \n",
    "    'shimmer':2, \n",
    "    'energy':1, \n",
    "    'zcr_mean':2, \n",
    "    'spectral_centroid_mean':2,\n",
    "    'tempo':3,\n",
    "    'hnr':0\n",
    "}\n",
    "\n",
    "def plot_distribution(X_df:pd.DataFrame, col):\n",
    "    temp = X_df[['gender', col]].copy()\n",
    "    if col != 'hnr':\n",
    "        temp[col] = np.round(np.log10(temp[col]), precision[col])\n",
    "    else:\n",
    "        temp[col] = np.round(temp[col], precision[col])\n",
    "    temp['frequency'] = temp[col].map(temp[col].value_counts())\n",
    "    display(temp)\n",
    "    colors = [cm.tab10(int(x == mapper['female'])) for x in temp['gender']]\n",
    "\n",
    "    plt.figure()\n",
    "    plt.scatter(temp[col], temp['frequency'], color=colors, alpha=0.7)\n",
    "    plt.xlabel('Mean Pitch (rounded to nearest 10)')\n",
    "    plt.ylabel('Frequency')\n",
    "    plt.title('Scatter Plot of Frequency by Mean Pitch and Gender')\n",
    "    plt.show()\n",
    "\n",
    "i=2\n",
    "col = list(precision.keys())[i]\n",
    "display(col)\n",
    "plot_distribution(step3_dev_df, col)"
   ]
  },
  {
   "cell_type": "code",
   "execution_count": 616,
   "metadata": {},
   "outputs": [
    {
     "data": {
      "text/plain": [
       "'mean_pitch'"
      ]
     },
     "metadata": {},
     "output_type": "display_data"
    },
    {
     "data": {
      "text/plain": [
       "3.2275585212755638"
      ]
     },
     "metadata": {},
     "output_type": "display_data"
    },
    {
     "data": {
      "text/plain": [
       "3"
      ]
     },
     "metadata": {},
     "output_type": "display_data"
    },
    {
     "data": {
      "text/plain": [
       "3"
      ]
     },
     "metadata": {},
     "output_type": "display_data"
    },
    {
     "data": {
      "text/plain": [
       "3.2604746173554395"
      ]
     },
     "metadata": {},
     "output_type": "display_data"
    },
    {
     "data": {
      "text/plain": [
       "3"
      ]
     },
     "metadata": {},
     "output_type": "display_data"
    },
    {
     "data": {
      "text/plain": [
       "3"
      ]
     },
     "metadata": {},
     "output_type": "display_data"
    },
    {
     "data": {
      "text/html": [
       "<div>\n",
       "<style scoped>\n",
       "    .dataframe tbody tr th:only-of-type {\n",
       "        vertical-align: middle;\n",
       "    }\n",
       "\n",
       "    .dataframe tbody tr th {\n",
       "        vertical-align: top;\n",
       "    }\n",
       "\n",
       "    .dataframe thead th {\n",
       "        text-align: right;\n",
       "    }\n",
       "</style>\n",
       "<table border=\"1\" class=\"dataframe\">\n",
       "  <thead>\n",
       "    <tr style=\"text-align: right;\">\n",
       "      <th></th>\n",
       "      <th>gender</th>\n",
       "      <th>mean_pitch</th>\n",
       "      <th>frequency</th>\n",
       "    </tr>\n",
       "    <tr>\n",
       "      <th>Id</th>\n",
       "      <th></th>\n",
       "      <th></th>\n",
       "      <th></th>\n",
       "    </tr>\n",
       "  </thead>\n",
       "  <tbody>\n",
       "    <tr>\n",
       "      <th>131</th>\n",
       "      <td>1.0</td>\n",
       "      <td>3.21</td>\n",
       "      <td>48</td>\n",
       "    </tr>\n",
       "    <tr>\n",
       "      <th>36</th>\n",
       "      <td>1.0</td>\n",
       "      <td>3.17</td>\n",
       "      <td>46</td>\n",
       "    </tr>\n",
       "    <tr>\n",
       "      <th>17</th>\n",
       "      <td>1.0</td>\n",
       "      <td>3.22</td>\n",
       "      <td>46</td>\n",
       "    </tr>\n",
       "    <tr>\n",
       "      <th>170</th>\n",
       "      <td>1.0</td>\n",
       "      <td>3.16</td>\n",
       "      <td>43</td>\n",
       "    </tr>\n",
       "    <tr>\n",
       "      <th>416</th>\n",
       "      <td>1.0</td>\n",
       "      <td>3.15</td>\n",
       "      <td>42</td>\n",
       "    </tr>\n",
       "    <tr>\n",
       "      <th>...</th>\n",
       "      <td>...</td>\n",
       "      <td>...</td>\n",
       "      <td>...</td>\n",
       "    </tr>\n",
       "    <tr>\n",
       "      <th>1397</th>\n",
       "      <td>1.0</td>\n",
       "      <td>2.60</td>\n",
       "      <td>1</td>\n",
       "    </tr>\n",
       "    <tr>\n",
       "      <th>1879</th>\n",
       "      <td>1.0</td>\n",
       "      <td>2.57</td>\n",
       "      <td>1</td>\n",
       "    </tr>\n",
       "    <tr>\n",
       "      <th>1642</th>\n",
       "      <td>1.0</td>\n",
       "      <td>2.56</td>\n",
       "      <td>1</td>\n",
       "    </tr>\n",
       "    <tr>\n",
       "      <th>2298</th>\n",
       "      <td>1.0</td>\n",
       "      <td>3.44</td>\n",
       "      <td>1</td>\n",
       "    </tr>\n",
       "    <tr>\n",
       "      <th>2061</th>\n",
       "      <td>1.0</td>\n",
       "      <td>3.38</td>\n",
       "      <td>1</td>\n",
       "    </tr>\n",
       "  </tbody>\n",
       "</table>\n",
       "<p>84 rows × 3 columns</p>\n",
       "</div>"
      ],
      "text/plain": [
       "      gender  mean_pitch  frequency\n",
       "Id                                 \n",
       "131      1.0        3.21         48\n",
       "36       1.0        3.17         46\n",
       "17       1.0        3.22         46\n",
       "170      1.0        3.16         43\n",
       "416      1.0        3.15         42\n",
       "...      ...         ...        ...\n",
       "1397     1.0        2.60          1\n",
       "1879     1.0        2.57          1\n",
       "1642     1.0        2.56          1\n",
       "2298     1.0        3.44          1\n",
       "2061     1.0        3.38          1\n",
       "\n",
       "[84 rows x 3 columns]"
      ]
     },
     "metadata": {},
     "output_type": "display_data"
    },
    {
     "data": {
      "image/png": "[encoded data removed]",
      "text/plain": [
       "<Figure size 640x480 with 1 Axes>"
      ]
     },
     "metadata": {},
     "output_type": "display_data"
    }
   ],
   "source": [
    "import numpy as np\n",
    "import pandas as pd\n",
    "import matplotlib.pyplot as plt\n",
    "from matplotlib import cm\n",
    "import math\n",
    "\n",
    "precision = {\n",
    "    'mean_pitch':2, \n",
    "    'max_pitch':3, \n",
    "    'min_pitch':3, \n",
    "    'jitter':2, \n",
    "    'shimmer':2, \n",
    "    'energy':1, \n",
    "    'zcr_mean':2, \n",
    "    'spectral_centroid_mean':2,\n",
    "    'tempo':3,\n",
    "    'hnr':0\n",
    "}\n",
    "\n",
    "# TODO: add a second log10, one for skewness and one for order of magnitude\n",
    "def round_column(data: pd.DataFrame, col: str):\n",
    "    if col != 'hnr':\n",
    "        display(math.log10(data[col].iloc[0]))\n",
    "        mean_value = data[col].mean()\n",
    "        display(math.floor(math.log10(mean_value)))\n",
    "        display(int(math.floor(math.log10((mean_value)))))\n",
    "        rounded_col = np.round(\n",
    "            np.log10(data[col]), \n",
    "            int(math.floor(math.log10((mean_value))))-1\n",
    "        )\n",
    "    else:\n",
    "        rounded_col = np.round(data[col], precision[col])\n",
    "    return rounded_col\n",
    "\n",
    "\n",
    "def plot_distribution(X_df: pd.DataFrame, col: str):    \n",
    "    temp = X_df[['gender', col]].copy()\n",
    "\n",
    "    male_temp = temp[temp['gender'] == mapper['male']].copy()\n",
    "    female_temp = temp[temp['gender'] == mapper['female']].copy()\n",
    "\n",
    "    male_temp[col] = round_column(male_temp, col)\n",
    "    female_temp[col] = round_column(female_temp, col)\n",
    "    # if col != 'hnr':\n",
    "    #     male_temp[col] = np.round(\n",
    "    #         np.log10(male_temp[col]), \n",
    "    #         int(\n",
    "    #             math.floor(\n",
    "    #                 math.log10(\n",
    "    #                     abs(X_df.iloc[:, 1].mean())\n",
    "    #                 )\n",
    "    #             )\n",
    "    #         )-1\n",
    "    #     )\n",
    "    #     female_temp[col] = np.round(\n",
    "    #         np.log10(female_temp[col]), \n",
    "    #         int(\n",
    "    #             math.floor(\n",
    "    #                 math.log10(\n",
    "    #                     abs(X_df.iloc[:, 1].mean())\n",
    "    #                 )\n",
    "    #             )\n",
    "    #         )-1\n",
    "    #     )\n",
    "    #     # female_temp[col] = np.round(np.log10(female_temp[col]), precision[col])\n",
    "    # else:\n",
    "    #     male_temp[col] = np.round(male_temp[col], precision[col])\n",
    "    #     female_temp[col] = np.round(female_temp[col], precision[col])\n",
    "\n",
    "    male_temp['frequency'] = male_temp[col].map(male_temp[col].value_counts())\n",
    "    female_temp['frequency'] = female_temp[col].map(female_temp[col].value_counts())\n",
    "\n",
    "    male_temp = male_temp.drop_duplicates()\n",
    "    female_temp = female_temp.drop_duplicates()\n",
    "\n",
    "    male_temp = male_temp.sort_values(by='frequency', ascending=False)\n",
    "    # Separate males and females\n",
    "    display(male_temp)\n",
    "    # Plot males\n",
    "    plt.figure()\n",
    "    plt.scatter(male_temp[col] + np.random.uniform(-0.1, 0.1, size=len(male_temp)), \n",
    "                male_temp['frequency'], \n",
    "                color='blue', alpha=0.7, label='Male')\n",
    "    \n",
    "    # Plot females\n",
    "    plt.scatter(female_temp[col]+ np.random.uniform(-0.1, 0.1, size=len(female_temp)), \n",
    "                female_temp['frequency'], \n",
    "                color='red', alpha=0.7, label='Female')\n",
    "    \n",
    "    plt.xlabel(f'{col.capitalize()} (rounded)')\n",
    "    plt.ylabel('Frequency')\n",
    "    plt.title(f'Scatter Plot of Frequency by {col.capitalize()} and Gender')\n",
    "    plt.legend()\n",
    "    plt.show()\n",
    "\n",
    "# Example usage\n",
    "i = 0\n",
    "col = list(precision.keys())[i]\n",
    "display(col)\n",
    "plot_distribution(step3_dev_df, col)\n"
   ]
  },
  {
   "cell_type": "markdown",
   "metadata": {},
   "source": [
    "## First regressor"
   ]
  },
  {
   "cell_type": "code",
   "execution_count": null,
   "metadata": {},
   "outputs": [],
   "source": [
    "from sklearn.ensemble import RandomForestRegressor\n",
    "from sklearn.metrics import root_mean_squared_error\n",
    "from sklearn.model_selection import train_test_split\n",
    "\n",
    "forest = RandomForestRegressor()\n",
    "\n",
    "# display(working_df)\n",
    "# display(ages_df)\n",
    "\n",
    "X_train, X_val, y_train, y_val = train_test_split(step3_dev_df, ages_df, test_size=0.2, shuffle=True, random_state=341967)\n",
    "\n",
    "forest = forest.fit(X_train.values, y_train.values.reshape((-1,)))\n",
    "y_pred = forest.predict(X_val.values)\n",
    "\n",
    "display(root_mean_squared_error(y_val.values, y_pred))\n",
    "\n",
    "#10.402057038409454"
   ]
  },
  {
   "cell_type": "code",
   "execution_count": null,
   "metadata": {},
   "outputs": [],
   "source": [
    "y_eval_pred = forest.predict(step3_eval_df.values)\n",
    "\n",
    "from collections import Counter\n",
    "\n",
    "display(np.max(y_eval_pred), np.min(y_eval_pred))\n",
    "display(np.max(ages_df), np.min(ages_df))"
   ]
  },
  {
   "cell_type": "code",
   "execution_count": null,
   "metadata": {},
   "outputs": [],
   "source": [
    "y_eval_pred"
   ]
  },
  {
   "cell_type": "code",
   "execution_count": 17,
   "metadata": {},
   "outputs": [],
   "source": [
    "with open(\"results.csv\", \"w\") as fout:\n",
    "    fout.write(\"Id,Predicted\\n\")\n",
    "\n",
    "    for id, y in enumerate(y_eval_pred):\n",
    "        fout.write(f\"{id}, {y}\\n\")"
   ]
  },
  {
   "cell_type": "code",
   "execution_count": null,
   "metadata": {},
   "outputs": [],
   "source": [
    "from sklearn.model_selection import cross_val_score\n",
    "\n",
    "abs(cross_val_score(RandomForestRegressor(n_jobs=-1), step3_dev_df, ages_df, cv=10, scoring='neg_root_mean_squared_error', n_jobs=-1).mean())"
   ]
  },
  {
   "cell_type": "code",
   "execution_count": null,
   "metadata": {},
   "outputs": [],
   "source": []
  },
  {
   "cell_type": "code",
   "execution_count": null,
   "metadata": {},
   "outputs": [],
   "source": []
  }
 ],
 "metadata": {
  "kernelspec": {
   "display_name": "Python 3",
   "language": "python",
   "name": "python3"
  },
  "language_info": {
   "codemirror_mode": {
    "name": "ipython",
    "version": 3
   },
   "file_extension": ".py",
   "mimetype": "text/x-python",
   "name": "python",
   "nbconvert_exporter": "python",
   "pygments_lexer": "ipython3",
   "version": "3.12.1"
  }
 },
 "nbformat": 4,
 "nbformat_minor": 2
}
